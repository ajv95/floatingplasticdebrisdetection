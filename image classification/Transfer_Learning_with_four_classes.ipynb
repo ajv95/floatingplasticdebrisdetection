{
  "nbformat": 4,
  "nbformat_minor": 0,
  "metadata": {
    "colab": {
      "name": "Transfer_Learning_with_four_classes.ipynb",
      "provenance": [],
      "collapsed_sections": [],
      "toc_visible": true
    },
    "kernelspec": {
      "display_name": "Python 3",
      "name": "python3"
    },
    "accelerator": "GPU"
  },
  "cells": [
    {
      "cell_type": "markdown",
      "metadata": {
        "id": "qSOTHSIin9iY"
      },
      "source": [
        "#1 Loading data, libraries and functions"
      ]
    },
    {
      "cell_type": "code",
      "metadata": {
        "id": "oJuQjaQxn7zh"
      },
      "source": [
        "import matplotlib.pyplot as plt\n",
        "import numpy as np\n",
        "from natsort import natsorted\n",
        "\n",
        "from __future__ import print_function\n",
        "import os\n",
        "\n",
        "import tensorflow as tf\n",
        "from tensorflow.keras.layers import Input, Dense, Flatten, Conv2D, Dropout, MaxPool2D\n",
        "from tensorflow.keras.models import Model\n",
        "from tensorflow import keras\n",
        "from tensorflow.python.client import device_lib\n",
        "\n",
        "from sklearn.metrics import accuracy_score\n",
        "from sklearn.metrics import precision_score\n",
        "from sklearn.metrics import recall_score\n",
        "from sklearn.metrics import f1_score\n",
        "from sklearn.metrics import cohen_kappa_score\n",
        "from sklearn.metrics import roc_auc_score\n",
        "from scipy import interp\n",
        "from itertools import cycle\n",
        "from tensorflow.keras.utils import plot_model"
      ],
      "execution_count": null,
      "outputs": []
    },
    {
      "cell_type": "code",
      "metadata": {
        "id": "q28No-fsUEy-"
      },
      "source": [
        "# Linking GoogleDrive + accessing data\n",
        "from google.colab import drive\n",
        "drive.mount('/content/gdrive', force_remount=True)"
      ],
      "execution_count": null,
      "outputs": []
    },
    {
      "cell_type": "code",
      "metadata": {
        "id": "rtTex1_GPWqx"
      },
      "source": [
        "from google.colab import drive\n",
        "drive.flush_and_unmount()"
      ],
      "execution_count": null,
      "outputs": []
    },
    {
      "cell_type": "code",
      "metadata": {
        "id": "A-NOMuWhjLKU"
      },
      "source": [
        "# Verify if subfolders are in TRAIN root folder, 0=Organic, 1=Recyclable, 2=Non Recyclable\n",
        "DATASET_PATH_TRAIN='gdrive/MyDrive/RSDeepLearning/AssWC/train_27m_0deg_center_bank'\n",
        "for classes in os.listdir(DATASET_PATH_TRAIN):\n",
        "  d=os.path.join(DATASET_PATH_TRAIN, classes)\n",
        "  if os.path.isdir(d):\n",
        "    print(d)"
      ],
      "execution_count": null,
      "outputs": []
    },
    {
      "cell_type": "code",
      "metadata": {
        "id": "-E2ff9SiJftE"
      },
      "source": [
        "# Verify if subfolders are in TEST root folder, 0=Organic, 1=Recyclable, 2=Non Recyclable\n",
        "DATASET_PATH_TEST='gdrive/MyDrive/RSDeepLearning/AssWC/test_27m_0deg_center_bank'\n",
        "for classes in os.listdir(DATASET_PATH_TEST):\n",
        "  d=os.path.join(DATASET_PATH_TEST, classes)\n",
        "  if os.path.isdir(d):\n",
        "    print(d)"
      ],
      "execution_count": null,
      "outputs": []
    },
    {
      "cell_type": "markdown",
      "metadata": {
        "id": "-4bJoOiGVyd2"
      },
      "source": [
        "#2 Preprocessing data"
      ]
    },
    {
      "cell_type": "code",
      "metadata": {
        "id": "UFiNxrIRooTA"
      },
      "source": [
        "# Defining image height and width\n",
        "image_height=224\n",
        "image_width=224\n",
        "batch_size=32"
      ],
      "execution_count": null,
      "outputs": []
    },
    {
      "cell_type": "code",
      "metadata": {
        "id": "MqkObik6hQPl"
      },
      "source": [
        "path_train = 'gdrive/MyDrive/RSDeepLearning/AssWC/train_27m_0deg_center_bank'\n",
        "path_val = 'gdrive/MyDrive/RSDeepLearning/AssWC/test_27m_0deg_center_bank'"
      ],
      "execution_count": null,
      "outputs": []
    },
    {
      "cell_type": "code",
      "metadata": {
        "id": "s-g42qX_4nLf"
      },
      "source": [
        "def import_dataset(path_train, path_val, image_height, image_width, batch_size):\n",
        "  # Creating a training dataset\n",
        "  ds_train = tf.keras.preprocessing.image_dataset_from_directory(\n",
        "      path_train,\n",
        "      labels='inferred',\n",
        "      label_mode='int',\n",
        "      color_mode='rgb',\n",
        "      image_size=(image_height,image_width),\n",
        "      batch_size=batch_size,\n",
        "      shuffle=True,\n",
        "      seed=123,\n",
        "      interpolation='bilinear'\n",
        ")\n",
        "  # Creating a validation dataset\n",
        "  ds_val = tf.keras.preprocessing.image_dataset_from_directory(\n",
        "      path_val,\n",
        "      labels='inferred',\n",
        "      label_mode='int',\n",
        "      color_mode='rgb',\n",
        "      image_size=(image_height,image_width),\n",
        "      batch_size=batch_size,\n",
        "      shuffle=True,\n",
        "      seed=123,\n",
        "      validation_split=val_split,\n",
        "      subset='validation',\n",
        "      interpolation='bilinear'\n",
        ") \n",
        "  \n",
        "  return ds_train, ds_val"
      ],
      "execution_count": null,
      "outputs": []
    },
    {
      "cell_type": "code",
      "metadata": {
        "id": "hnvlu0qJ4snS"
      },
      "source": [
        "ds_train, ds_val=import_dataset(path_train, path_val, image_height, image_width, batch_size)"
      ],
      "execution_count": null,
      "outputs": []
    },
    {
      "cell_type": "code",
      "metadata": {
        "id": "PA3Jj98j55Qf"
      },
      "source": [
        "def plot_results_loss(r, training_title, label_name_loss, label_name_val_loss, colors):\n",
        "  import matplotlib.pyplot as plt\n",
        "  import seaborn as sns\n",
        "  sns.set()\n",
        "\n",
        "  plt.figure(figsize=(15,8))\n",
        "\n",
        "  for key,c in zip(r, colors):\n",
        "    plt.plot(r[key].history['loss'], label= f'{label_name_loss}: {key}', color=c)\n",
        "    plt.plot(r[key].history['val_loss'], label=f'{label_name_val_loss}: {key}', ls= '--', color=c)\n",
        "  \n",
        "  plt.xlabel('Epochs')\n",
        "  plt.ylabel('Loss [-]')\n",
        "  plt.title(training_title, fontsize=16, fontweight= 'bold')\n",
        "  plt.legend(bbox_to_anchor=(1.05, 1.0), loc='upper left')"
      ],
      "execution_count": null,
      "outputs": []
    },
    {
      "cell_type": "code",
      "metadata": {
        "id": "z5Jy0A0X57D_"
      },
      "source": [
        "def plot_results_acc(r, training_title, label_name_acc, label_name_val_acc, colors):\n",
        "  import matplotlib.pyplot as plt\n",
        "  import seaborn as sns\n",
        "  sns.set()\n",
        "\n",
        "  plt.figure(figsize=(15,8))\n",
        "\n",
        "  for key,c in zip(r, colors):\n",
        "    plt.plot(r[key].history['accuracy'], label= f'{label_name_acc}: {key}', color=c)\n",
        "    plt.plot(r[key].history['val_accuracy'], label=f'{label_name_val_acc}: {key}', ls= '--', color=c)\n",
        "  \n",
        "  plt.xlabel('Epochs')\n",
        "  plt.ylabel('Accuracy [-]')\n",
        "  plt.title(training_title, fontsize=16, fontweight= 'bold')\n",
        "  plt.legend(bbox_to_anchor=(1.05, 1.0), loc='upper left')"
      ],
      "execution_count": null,
      "outputs": []
    },
    {
      "cell_type": "code",
      "metadata": {
        "id": "Yi52yaPuhHMV"
      },
      "source": [
        "# Plot confusion matrix\n",
        "from sklearn.metrics import confusion_matrix\n",
        "import itertools\n",
        "\n",
        "def plot_confusion_matrix(cm, classes,\n",
        "                          normalize=False,\n",
        "                          title='Confusion matrix',\n",
        "                          cmap=plt.cm.Blues):\n",
        "  \"\"\"\n",
        "  This function prints and plots the confusion matrix.\n",
        "  Normalization can be applied by setting `normalize=True`.\n",
        "  \"\"\"\n",
        "  if normalize:\n",
        "      cm = cm.astype('float') / cm.sum(axis=1)[:, np.newaxis]\n",
        "      print(\"Normalized confusion matrix\")\n",
        "  else:\n",
        "      print('Confusion matrix, without normalization')\n",
        "\n",
        "  print(cm)\n",
        "\n",
        "  plt.imshow(cm, interpolation='nearest', cmap=cmap)\n",
        "  plt.title(title, fontsize=20, fontweight='bold')\n",
        "  plt.colorbar()\n",
        "  tick_marks = np.arange(len(classes))\n",
        "  plt.xticks(tick_marks, classes, rotation=45)\n",
        "  plt.yticks(tick_marks, classes)\n",
        "\n",
        "  fmt = '.2f' if normalize else 'd'\n",
        "  thresh = cm.max() / 2.\n",
        "  for i, j in itertools.product(range(cm.shape[0]), range(cm.shape[1])):\n",
        "      plt.text(j, i, format(cm[i, j], fmt),\n",
        "               horizontalalignment=\"center\",\n",
        "               color=\"white\" if cm[i, j] > thresh else \"black\")\n",
        "\n",
        "  plt.tight_layout()\n",
        "  plt.ylabel('True label')\n",
        "  plt.xlabel('Predicted label')\n",
        "  plt.show()"
      ],
      "execution_count": null,
      "outputs": []
    },
    {
      "cell_type": "markdown",
      "metadata": {
        "id": "OUsRCA5Qkbey"
      },
      "source": [
        "#3 Increase of data performance"
      ]
    },
    {
      "cell_type": "code",
      "metadata": {
        "id": "hH_-4bEikpVh"
      },
      "source": [
        "AUTOTUNE = tf.data.AUTOTUNE\n",
        "\n",
        "ds_train = ds_train.cache().shuffle(1000).prefetch(buffer_size=AUTOTUNE)\n",
        "ds_val = ds_val.cache().prefetch(buffer_size=AUTOTUNE)"
      ],
      "execution_count": null,
      "outputs": []
    },
    {
      "cell_type": "markdown",
      "metadata": {
        "id": "wxQ0uqYsQoH4"
      },
      "source": [
        "#4 Addressing Class Imbalance"
      ]
    },
    {
      "cell_type": "code",
      "metadata": {
        "id": "LKiLczrSQrnr"
      },
      "source": [
        "path = 'gdrive/MyDrive/RSDeepLearning/AssWC/train_27m_0deg_center_bank'\n",
        "folders = os.listdir('gdrive/MyDrive/RSDeepLearning/AssWC/train_27m_0deg_center_bank') # dir is your directory path\n",
        "num = []\n",
        "\n",
        "for folder in folders:\n",
        "    dir = path + '/' + str(folder)\n",
        "    onlyfiles = next(os.walk(dir))[2] #dir is your directory path as string\n",
        "    num.append(len(onlyfiles))\n",
        "\n",
        "total_img=np.sum(num)"
      ],
      "execution_count": null,
      "outputs": []
    },
    {
      "cell_type": "code",
      "metadata": {
        "id": "_xIQNzePQtr9"
      },
      "source": [
        "num_classes=4\n",
        "class_weight_train = {0: (total_img/num[0])/num_classes,\n",
        "                1: (total_img/num[1])/num_classes,\n",
        "                2: (total_img/num[2])/num_classes,\n",
        "                3: (total_img/num[3])/num_classes}"
      ],
      "execution_count": null,
      "outputs": []
    },
    {
      "cell_type": "code",
      "metadata": {
        "id": "fGUfCW9sQvHm"
      },
      "source": [
        "class_weight_train"
      ],
      "execution_count": null,
      "outputs": []
    },
    {
      "cell_type": "markdown",
      "metadata": {
        "id": "_U2dYL_jp6kg"
      },
      "source": [
        "#5 Transfer Learning"
      ]
    },
    {
      "cell_type": "code",
      "metadata": {
        "id": "f1rRPw7XYXf9"
      },
      "source": [
        "from tensorflow.keras.applications import MobileNetV2\n",
        "from tensorflow.keras.applications import ResNet50\n",
        "from tensorflow.keras.applications import InceptionV3\n",
        "from tensorflow.keras.applications import DenseNet121"
      ],
      "execution_count": null,
      "outputs": []
    },
    {
      "cell_type": "code",
      "metadata": {
        "id": "ZK4qM2gtUBdZ"
      },
      "source": [
        "tf.test.gpu_device_name()\n",
        "device_lib.list_local_devices()"
      ],
      "execution_count": null,
      "outputs": []
    },
    {
      "cell_type": "markdown",
      "metadata": {
        "id": "WZYEGza1sT_W"
      },
      "source": [
        "## 5.1 MobileNet V2\n"
      ]
    },
    {
      "cell_type": "code",
      "metadata": {
        "id": "dBg_hwSpsWXR"
      },
      "source": [
        "mobile_model=MobileNetV2(input_shape=(224, 224, 3), include_top=False)\n",
        "mobile_model.trainable=True\n",
        "\n",
        "print('Number of layers in the MobileNetV2 model: ', len(mobile_model.layers))"
      ],
      "execution_count": null,
      "outputs": []
    },
    {
      "cell_type": "code",
      "metadata": {
        "id": "4deCeF1Ed_CG"
      },
      "source": [
        "mobile_model.summary()"
      ],
      "execution_count": null,
      "outputs": []
    },
    {
      "cell_type": "code",
      "metadata": {
        "id": "8oiWt8aMKWCf"
      },
      "source": [
        "#from tensorflow.keras.utils import plot_model\n",
        "plot_model(mobile_model, show_shapes=True)"
      ],
      "execution_count": null,
      "outputs": []
    },
    {
      "cell_type": "code",
      "metadata": {
        "id": "5JwZV81BoUQ3"
      },
      "source": [
        "num_classes=4\n",
        "model_MobileV2 = keras.Sequential([\n",
        "  tf.keras.layers.experimental.preprocessing.Rescaling(1./255, input_shape=(image_height, image_width, 3)),\n",
        "  mobile_model, \n",
        "  keras.layers.GlobalAveragePooling2D(),\n",
        "  keras.layers.Dropout(0.5),\n",
        "  keras.layers.Dense(64, activation='relu'),\n",
        "  keras.layers.Dense(256, activation='relu'),\n",
        "  keras.layers.Dropout(0.5),\n",
        "  keras.layers.Dense(num_classes, activation='softmax')\n",
        "])"
      ],
      "execution_count": null,
      "outputs": []
    },
    {
      "cell_type": "code",
      "metadata": {
        "id": "T6qBFEka1f9I"
      },
      "source": [
        "model_MobileV2.summary()"
      ],
      "execution_count": null,
      "outputs": []
    },
    {
      "cell_type": "code",
      "metadata": {
        "id": "3DR2vhX-pJ2x"
      },
      "source": [
        "model_MobileV2.compile(\n",
        "              optimizer=tf.keras.optimizers.Adam(learning_rate=0.01),\n",
        "              loss=tf.keras.losses.SparseCategoricalCrossentropy(),\n",
        "              metrics=['accuracy'])"
      ],
      "execution_count": null,
      "outputs": []
    },
    {
      "cell_type": "code",
      "metadata": {
        "id": "RufTLi7xp-fn"
      },
      "source": [
        "# import\n",
        "from tensorflow.keras.callbacks import EarlyStopping, ModelCheckpoint\n",
        "\n",
        "# define\n",
        "mcp_save = ModelCheckpoint('gdrive/MyDrive/RSDeepLearning/AssWC/mdl_wts_mobilenet_scratch.hdf5', save_best_only=True, monitor='val_accuracy', mode='auto', save_weights_only=True)  \n",
        "\n",
        "# list together\n",
        "callbacks = [mcp_save] \n",
        "\n",
        "epochs=30\n",
        "r_mobileV2 = model_MobileV2.fit(\n",
        "    ds_train, \n",
        "    validation_data=ds_val, \n",
        "    epochs=epochs,\n",
        "    callbacks=callbacks,\n",
        "    class_weight=class_weight_train)"
      ],
      "execution_count": null,
      "outputs": []
    },
    {
      "cell_type": "markdown",
      "metadata": {
        "id": "uBhSUZNEYRsT"
      },
      "source": [
        "##5.2 ResNet50"
      ]
    },
    {
      "cell_type": "code",
      "metadata": {
        "id": "QZLyct86YQ45"
      },
      "source": [
        "ResNet50_model=ResNet50(input_shape=(224, 224, 3), include_top=False)\n",
        "ResNet50_model.trainable=True\n",
        "print('Number of layers in the MobileNetV2 model: ', len(ResNet50_model.layers))"
      ],
      "execution_count": null,
      "outputs": []
    },
    {
      "cell_type": "code",
      "metadata": {
        "id": "abj2wfGz8jP_"
      },
      "source": [
        "ResNet50_model.summary()"
      ],
      "execution_count": null,
      "outputs": []
    },
    {
      "cell_type": "code",
      "metadata": {
        "id": "NoKESXlbdQfF"
      },
      "source": [
        "num_classes=4\n",
        "model_ResNet50 = keras.Sequential([\n",
        "  tf.keras.layers.experimental.preprocessing.Rescaling(1./255, input_shape=(image_height, image_width, 3)),\n",
        "  ResNet50_model,\n",
        "  keras.layers.GlobalAveragePooling2D(),\n",
        "  keras.layers.Dropout(0.5),\n",
        "  keras.layers.Dense(64, activation='relu'),\n",
        "  keras.layers.Dense(256, activation='relu'),\n",
        "  keras.layers.Dropout(0.5),\n",
        "  keras.layers.Dense(num_classes, activation='softmax')\n",
        "])"
      ],
      "execution_count": null,
      "outputs": []
    },
    {
      "cell_type": "code",
      "metadata": {
        "id": "9ajrp0fxdZN6"
      },
      "source": [
        "model_ResNet50.compile(\n",
        "              optimizer=tf.keras.optimizers.Adam(learning_rate=0.0001),\n",
        "              loss=tf.keras.losses.SparseCategoricalCrossentropy(),\n",
        "              metrics=['accuracy'])"
      ],
      "execution_count": null,
      "outputs": []
    },
    {
      "cell_type": "code",
      "metadata": {
        "id": "1PYxWjn8AJ3b"
      },
      "source": [
        "model_ResNet50.summary()"
      ],
      "execution_count": null,
      "outputs": []
    },
    {
      "cell_type": "code",
      "metadata": {
        "id": "tB7Q21yPdZQ0"
      },
      "source": [
        "# import\n",
        "from tensorflow.keras.callbacks import EarlyStopping, ModelCheckpoint\n",
        "\n",
        "# define\n",
        "mcp_save = ModelCheckpoint('gdrive/MyDrive/RSDeepLearning/AssWC/mdl_wts_ResNet50_scratch.hdf5', save_best_only=True, monitor='val_accuracy', mode='auto', save_weights_only=True)  \n",
        "\n",
        "# list together\n",
        "callbacks = [mcp_save] \n",
        "\n",
        "epochs=30\n",
        "r_ResNet50 = model_ResNet50.fit(\n",
        "    ds_train, \n",
        "    validation_data=ds_val, \n",
        "    epochs=epochs,\n",
        "    callbacks=callbacks,\n",
        "    class_weight=class_weight_train)"
      ],
      "execution_count": null,
      "outputs": []
    },
    {
      "cell_type": "markdown",
      "metadata": {
        "id": "ugtnKW3BdxAS"
      },
      "source": [
        "##5.3 InceptionV3"
      ]
    },
    {
      "cell_type": "code",
      "metadata": {
        "id": "78iIHyzOdyNj"
      },
      "source": [
        "InceptionV3_model=InceptionV3(input_shape=(224, 224, 3), include_top=False)\n",
        "InceptionV3_model.trainable=True\n",
        "\n",
        "print('Number of layers in the InceptionV3 model: ', len(InceptionV3_model.layers))"
      ],
      "execution_count": null,
      "outputs": []
    },
    {
      "cell_type": "code",
      "metadata": {
        "id": "EgtxhhBpeAFw"
      },
      "source": [
        "InceptionV3_model.summary()"
      ],
      "execution_count": null,
      "outputs": []
    },
    {
      "cell_type": "code",
      "metadata": {
        "id": "KlKc3ZzHeAL8"
      },
      "source": [
        "num_classes=4\n",
        "model_InceptionV3 = keras.Sequential([\n",
        "  tf.keras.layers.experimental.preprocessing.Rescaling(1./255, input_shape=(image_height, image_width, 3)),\n",
        "  InceptionV3_model,\n",
        "  keras.layers.GlobalAveragePooling2D(),\n",
        "  keras.layers.Dropout(0.5),\n",
        "  keras.layers.Dense(64, activation='relu'),\n",
        "  keras.layers.Dense(256, activation='relu'),\n",
        "  keras.layers.Dropout(0.5),\n",
        "  keras.layers.Dense(num_classes, activation='softmax')\n",
        "])"
      ],
      "execution_count": null,
      "outputs": []
    },
    {
      "cell_type": "code",
      "metadata": {
        "id": "QqFQEDOaYYJd"
      },
      "source": [
        "model_InceptionV3.summary()"
      ],
      "execution_count": null,
      "outputs": []
    },
    {
      "cell_type": "code",
      "metadata": {
        "id": "seCrugFCeYA1"
      },
      "source": [
        "model_InceptionV3.compile(\n",
        "              optimizer=tf.keras.optimizers.Adam(learning_rate=0.0001),\n",
        "              loss=keras.losses.SparseCategoricalCrossentropy(),\n",
        "              metrics=['accuracy'])"
      ],
      "execution_count": null,
      "outputs": []
    },
    {
      "cell_type": "code",
      "metadata": {
        "id": "wSSx6uQaecMO"
      },
      "source": [
        "# import\n",
        "from tensorflow.keras.callbacks import EarlyStopping, ModelCheckpoint\n",
        "\n",
        "# define\n",
        "mcp_save = ModelCheckpoint('gdrive/MyDrive/RSDeepLearning/AssWC/mdl_wts_inceptionv3_scratch.hdf5', save_best_only=True, monitor='val_accuracy', mode='auto', save_weights_only=True)  \n",
        "\n",
        "# list together\n",
        "callbacks = [mcp_save] \n",
        "\n",
        "epochs=30\n",
        "r_InceptionV3 = model_InceptionV3.fit(\n",
        "    ds_train, \n",
        "    validation_data=ds_val, \n",
        "    epochs=epochs,\n",
        "    callbacks=callbacks,\n",
        "    class_weight=class_weight_train)"
      ],
      "execution_count": null,
      "outputs": []
    },
    {
      "cell_type": "markdown",
      "metadata": {
        "id": "dWugch_ifGk-"
      },
      "source": [
        "##5.4 DenseNet121"
      ]
    },
    {
      "cell_type": "code",
      "metadata": {
        "id": "QhGrwutofIA1"
      },
      "source": [
        "DenseNet121_model=DenseNet121(input_shape=(224, 224, 3), include_top=False)\n",
        "DenseNet121_model.trainable=True\n",
        "\n",
        "print('Number of layers in the MobileNetV2 model: ', len(DenseNet121_model.layers))"
      ],
      "execution_count": null,
      "outputs": []
    },
    {
      "cell_type": "code",
      "metadata": {
        "id": "1GEh_nPkfW4Y"
      },
      "source": [
        "DenseNet121_model.summary()"
      ],
      "execution_count": null,
      "outputs": []
    },
    {
      "cell_type": "code",
      "metadata": {
        "id": "pOUmtdj8fa_p"
      },
      "source": [
        "DenseNet121_model=DenseNet121(input_shape=(224, 224, 3), include_top=False)\n",
        "num_classes=4\n",
        "model_DenseNet121 = keras.Sequential([\n",
        "  tf.keras.layers.experimental.preprocessing.Rescaling(1./255, input_shape=(image_height, image_width, 3)),\n",
        "  DenseNet121_model,\n",
        "  keras.layers.GlobalAveragePooling2D(),\n",
        "  keras.layers.Dropout(0.5),\n",
        "  keras.layers.Dense(64, activation='relu'),\n",
        "  keras.layers.Dense(256, activation='relu'),\n",
        "  keras.layers.Dropout(0.5),\n",
        "  keras.layers.Dense(num_classes, activation='softmax')\n",
        "])"
      ],
      "execution_count": null,
      "outputs": []
    },
    {
      "cell_type": "code",
      "metadata": {
        "id": "Et20_sbcfkHZ"
      },
      "source": [
        "model_DenseNet121.compile(\n",
        "              optimizer=tf.keras.optimizers.Adam(learning_rate=0.0001),\n",
        "              loss=keras.losses.SparseCategoricalCrossentropy(),\n",
        "              metrics=['accuracy'])"
      ],
      "execution_count": null,
      "outputs": []
    },
    {
      "cell_type": "code",
      "metadata": {
        "id": "rc5fRGCdfqnt"
      },
      "source": [
        "# import\n",
        "from tensorflow.keras.callbacks import EarlyStopping, ModelCheckpoint\n",
        "\n",
        "# define\n",
        "mcp_save = ModelCheckpoint('gdrive/MyDrive/RSDeepLearning/AssWC/mdl_wts_denseNet_scratch.hdf5', save_best_only=True, monitor='val_accuracy', mode='auto', save_weights_only=True)\n",
        "\n",
        "#list together\n",
        "callbacks = [mcp_save] \n",
        "\n",
        "epochs=30\n",
        "r_DenseNet121 = model_DenseNet121.fit(\n",
        "    ds_train, \n",
        "    validation_data=ds_val, \n",
        "    epochs=epochs,\n",
        "    callbacks=callbacks,\n",
        "    class_weight=class_weight_train)"
      ],
      "execution_count": null,
      "outputs": []
    },
    {
      "cell_type": "code",
      "metadata": {
        "id": "Dsv63drKM1gM"
      },
      "source": [
        "import matplotlib.pyplot as plt\n",
        "import numpy as np\n",
        "import seaborn as sns\n",
        "sns.set()\n",
        "\n",
        "from __future__ import print_function\n",
        "import os\n",
        "\n",
        "import tensorflow as tf\n",
        "from tensorflow.keras.layers import Input, Dense, Flatten, Conv2D, Dropout, MaxPool2D, GlobalAveragePooling2D, GlobalMaxPool2D, Lambda, BatchNormalization, Concatenate, AvgPool2D\n",
        "from keras_preprocessing.image import ImageDataGenerator\n",
        "from tensorflow.keras.models import Model\n",
        "from tensorflow import keras\n",
        "\n",
        "from sklearn.metrics import accuracy_score\n",
        "from sklearn.metrics import precision_score\n",
        "from sklearn.metrics import recall_score\n",
        "from sklearn.metrics import f1_score\n",
        "from sklearn.metrics import cohen_kappa_score\n",
        "from sklearn.metrics import roc_auc_score\n",
        "from scipy import interp\n",
        "from itertools import cycle\n",
        "from tensorflow.keras.callbacks import EarlyStopping, ModelCheckpoint\n",
        "from tensorflow.python.client import device_lib"
      ],
      "execution_count": null,
      "outputs": []
    },
    {
      "cell_type": "code",
      "metadata": {
        "id": "7k7NaBVnM1lO"
      },
      "source": [
        "  num_classes = 4\n",
        "\n",
        "  i = Input(shape=(image_height, image_width, 3))\n",
        "  x = tf.keras.layers.experimental.preprocessing.Rescaling(1./255)(i)\n",
        "  x = Conv2D(16, (3, 3), strides=1, activation='relu', padding='same')(x)\n",
        "  x = Conv2D(16, (3, 3), strides=1, activation='relu', padding='same')(x)\n",
        "  x = BatchNormalization(momentum=0.6)(x)\n",
        "  x = MaxPool2D()(x)\n",
        "  x = Conv2D(32, (3, 3), strides=1, activation='relu', padding='same')(x)\n",
        "  x = Conv2D(32, (3, 3), strides=1, activation='relu', padding='same')(x)\n",
        "  x = BatchNormalization(momentum=0.6)(x)\n",
        "  x = MaxPool2D()(x)\n",
        "  x = Conv2D(64, (3, 3), strides=1, activation='relu', padding='same')(x)\n",
        "  x = Conv2D(64, (3, 3), strides=1, activation='relu', padding='same')(x)\n",
        "  x = BatchNormalization(momentum=0.6)(x)\n",
        "  x = MaxPool2D()(x)\n",
        "  x = Conv2D(128, (3, 3), strides=1, activation='relu', padding='same')(x)\n",
        "  x = Conv2D(128, (3, 3), strides=1, activation='relu', padding='same')(x)\n",
        "  x = BatchNormalization(momentum=0.6)(x)\n",
        "  x = MaxPool2D()(x)\n",
        "  x = Conv2D(256, (3, 3), strides=1, activation='relu', padding='same')(x)\n",
        "  x = Conv2D(256, (3, 3), strides=1, activation='relu', padding='same')(x)\n",
        "  x = BatchNormalization(momentum=0.6)(x)\n",
        "  x = GlobalAveragePooling2D()(x)\n",
        "  x = Dropout(0.5)(x)\n",
        "  x = Dense(64, activation='relu')(x)\n",
        "  x = Dense(256, activation='relu')(x)\n",
        "  x = Dropout(0.5)(x)\n",
        "  x = Dense(num_classes, activation='softmax')(x)\n",
        "\n",
        "  model = Model(i, x)"
      ],
      "execution_count": null,
      "outputs": []
    },
    {
      "cell_type": "code",
      "metadata": {
        "id": "Gz2Q4xeZM1ox"
      },
      "source": [
        "model.compile(\n",
        "              optimizer=tf.keras.optimizers.Adam(learning_rate=0.0001),\n",
        "              loss=keras.losses.SparseCategoricalCrossentropy(),\n",
        "              metrics=['accuracy'])"
      ],
      "execution_count": null,
      "outputs": []
    },
    {
      "cell_type": "code",
      "metadata": {
        "id": "mfByUOUCM1rh"
      },
      "source": [
        "# import\n",
        "from tensorflow.keras.callbacks import EarlyStopping, ModelCheckpoint\n",
        "\n",
        "# import\n",
        "from tensorflow.keras.callbacks import EarlyStopping, ModelCheckpoint\n",
        "\n",
        "mcp_save = ModelCheckpoint('gdrive/MyDrive/RSDeepLearning/AssWC/mdl_wts_27m.hdf5', save_best_only=True, monitor='val_accuracy', mode='auto', save_weights_only=True)\n",
        "\n",
        "callbacks = [mcp_save] \n",
        "\n",
        "epochs=30\n",
        "r = model.fit(\n",
        "    ds_train, \n",
        "    validation_data=ds_val, \n",
        "    epochs=epochs,\n",
        "    callbacks=callbacks,\n",
        "    class_weight=class_weight_train)"
      ],
      "execution_count": null,
      "outputs": []
    },
    {
      "cell_type": "markdown",
      "metadata": {
        "id": "72if0eUyiWGv"
      },
      "source": [
        "##5.5 Squeeze Net"
      ]
    },
    {
      "cell_type": "markdown",
      "metadata": {
        "id": "Nv6byyJ-HzZb"
      },
      "source": [
        "SqueezNet is not in the Keras applications (as compared to the other models), therefore the model was implemented manually. Therefore https://github.com/rcmalli/keras-squeezenet was used with slight modifications. The structure as proposed by Iandola et al., 2017 was used, whereby the top was added according to the need of the examined dataset."
      ]
    },
    {
      "cell_type": "markdown",
      "metadata": {
        "id": "SL300pj0ISUt"
      },
      "source": [
        "![image.png](data:image/png;base64,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)"
      ]
    },
    {
      "cell_type": "code",
      "metadata": {
        "id": "RyL316h_XODj"
      },
      "source": [
        "pip install keras_applications"
      ],
      "execution_count": null,
      "outputs": []
    },
    {
      "cell_type": "code",
      "metadata": {
        "id": "LMIR0IWwDPUp"
      },
      "source": [
        "from keras_applications.imagenet_utils import _obtain_input_shape\n",
        "from keras import backend as K\n",
        "from keras.layers import Input, Convolution2D, MaxPooling2D, Activation, concatenate, Dropout\n",
        "from keras.layers import GlobalAveragePooling2D, GlobalMaxPooling2D\n",
        "from keras.models import Model\n",
        "from keras.engine.topology import get_source_inputs\n",
        "from keras.utils import get_file\n",
        "from keras.utils import layer_utils\n",
        "\n",
        "\n",
        "sq1x1 = \"squeeze1x1\"\n",
        "exp1x1 = \"expand1x1\"\n",
        "exp3x3 = \"expand3x3\"\n",
        "relu = \"relu_\"\n",
        "\n",
        "WEIGHTS_PATH = \"https://github.com/rcmalli/keras-squeezenet/releases/download/v1.0/squeezenet_weights_tf_dim_ordering_tf_kernels.h5\"\n",
        "WEIGHTS_PATH_NO_TOP = \"https://github.com/rcmalli/keras-squeezenet/releases/download/v1.0/squeezenet_weights_tf_dim_ordering_tf_kernels_notop.h5\"\n",
        "\n",
        "# Modular function for Fire Node\n",
        "\n",
        "def fire_module(x, fire_id, squeeze=16, expand=64):\n",
        "    s_id = 'fire' + str(fire_id) + '/'\n",
        "\n",
        "    if K.image_data_format() == 'channels_first':\n",
        "        channel_axis = 1\n",
        "    else:\n",
        "        channel_axis = 3\n",
        "    \n",
        "    x = Convolution2D(squeeze, (1, 1), padding='valid', name=s_id + sq1x1)(x)\n",
        "    x = Activation('relu', name=s_id + relu + sq1x1)(x)\n",
        "\n",
        "    left = Convolution2D(expand, (1, 1), padding='valid', name=s_id + exp1x1)(x)\n",
        "    left = Activation('relu', name=s_id + relu + exp1x1)(left)\n",
        "\n",
        "    right = Convolution2D(expand, (3, 3), padding='same', name=s_id + exp3x3)(x)\n",
        "    right = Activation('relu', name=s_id + relu + exp3x3)(right)\n",
        "\n",
        "    x = concatenate([left, right], axis=channel_axis, name=s_id + 'concat')\n",
        "    return x\n",
        "\n",
        "\n",
        "# Original SqueezeNet from paper.\n",
        "\n",
        "def SqueezeNet(include_top=True, weights='imagenet',\n",
        "               input_tensor=None, input_shape=None,\n",
        "               pooling=None,\n",
        "               classes=1000):\n",
        "    \"\"\"Instantiates the SqueezeNet architecture.\n",
        "    \"\"\"\n",
        "        \n",
        "    if weights not in {'imagenet', None}:\n",
        "        raise ValueError('The `weights` argument should be either '\n",
        "                         '`None` (random initialization) or `imagenet` '\n",
        "                         '(pre-training on ImageNet).')\n",
        "\n",
        "    if weights == 'imagenet' and classes != 1000:\n",
        "        raise ValueError('If using `weights` as imagenet with `include_top`'\n",
        "                         ' as true, `classes` should be 1000')\n",
        "\n",
        "\n",
        "    input_shape = _obtain_input_shape(input_shape,\n",
        "                                      default_size=227,\n",
        "                                      min_size=48,\n",
        "                                      data_format=K.image_data_format(),\n",
        "                                      require_flatten=include_top)\n",
        "\n",
        "    if input_tensor is None:\n",
        "        img_input = Input(shape=input_shape)\n",
        "    else:\n",
        "        if not K.is_keras_tensor(input_tensor):\n",
        "            img_input = Input(tensor=input_tensor, shape=input_shape)\n",
        "        else:\n",
        "            img_input = input_tensor\n",
        "\n",
        "\n",
        "    x = Convolution2D(64, (3, 3), strides=(2, 2), padding='valid', name='conv1')(img_input)\n",
        "    x = Activation('relu', name='relu_conv1')(x)\n",
        "    x = MaxPooling2D(pool_size=(3, 3), strides=(2, 2), name='pool1')(x)\n",
        "\n",
        "    x = fire_module(x, fire_id=2, squeeze=16, expand=64)\n",
        "    x = fire_module(x, fire_id=3, squeeze=16, expand=64)\n",
        "    x = MaxPooling2D(pool_size=(3, 3), strides=(2, 2), name='pool3')(x)\n",
        "\n",
        "    x = fire_module(x, fire_id=4, squeeze=32, expand=128)\n",
        "    x = fire_module(x, fire_id=5, squeeze=32, expand=128)\n",
        "    x = MaxPooling2D(pool_size=(3, 3), strides=(2, 2), name='pool5')(x)\n",
        "\n",
        "    x = fire_module(x, fire_id=6, squeeze=48, expand=192)\n",
        "    x = fire_module(x, fire_id=7, squeeze=48, expand=192)\n",
        "    x = fire_module(x, fire_id=8, squeeze=64, expand=256)\n",
        "    x = fire_module(x, fire_id=9, squeeze=64, expand=256)\n",
        "    \n",
        "    if include_top:\n",
        "        # It's not obvious where to cut the network... \n",
        "        # Could do the 8th or 9th layer... some work recommends cutting earlier layers.\n",
        "    \n",
        "        x = Dropout(0.5, name='drop9')(x)\n",
        "\n",
        "        x = Convolution2D(classes, (1, 1), padding='valid', name='conv10')(x)\n",
        "        x = Activation('relu', name='relu_conv10')(x)\n",
        "        x = GlobalAveragePooling2D()(x)\n",
        "        x = Activation('softmax', name='loss')(x)\n",
        "    else:\n",
        "        if pooling == 'avg':\n",
        "            x = GlobalAveragePooling2D()(x)\n",
        "        elif pooling=='max':\n",
        "            x = GlobalMaxPooling2D()(x)\n",
        "        elif pooling==None:\n",
        "            pass\n",
        "        else:\n",
        "            raise ValueError(\"Unknown argument for 'pooling'=\" + pooling)\n",
        "\n",
        "    # Ensure that the model takes into account\n",
        "    # any potential predecessors of `input_tensor`.\n",
        "    if input_tensor is not None:\n",
        "        inputs = get_source_inputs(input_tensor)\n",
        "    else:\n",
        "        inputs = img_input\n",
        "\n",
        "    model = Model(inputs, x, name='squeezenet')\n",
        "\n",
        "    # load weights\n",
        "    if weights == 'imagenet':\n",
        "        if include_top:\n",
        "            weights_path = get_file('squeezenet_weights_tf_dim_ordering_tf_kernels.h5',\n",
        "                                    WEIGHTS_PATH,\n",
        "                                    cache_subdir='models')\n",
        "        else:\n",
        "            weights_path = get_file('squeezenet_weights_tf_dim_ordering_tf_kernels_notop.h5',\n",
        "                                    WEIGHTS_PATH_NO_TOP,\n",
        "                                    cache_subdir='models')\n",
        "            \n",
        "        model.load_weights(weights_path)\n",
        "        if K.backend() == 'theano':\n",
        "            layer_utils.convert_all_kernels_in_model(model)\n",
        "\n",
        "    return model\n"
      ],
      "execution_count": null,
      "outputs": []
    },
    {
      "cell_type": "code",
      "metadata": {
        "id": "gBqDzoNcXbxj"
      },
      "source": [
        "SqueezeNet_model = SqueezeNet(input_shape=(224, 224, 3), include_top=False)\n",
        "SqueezeNet_model.trainable=True\n",
        "\n",
        "print('Number of layers in the SqueezeNet model: ', len(SqueezeNet_model.layers))"
      ],
      "execution_count": null,
      "outputs": []
    },
    {
      "cell_type": "code",
      "metadata": {
        "id": "maVlqOFgfhbL"
      },
      "source": [
        "image_height=224\n",
        "image_width=224\n",
        "num_classes=4\n",
        "model_SqueezeNet = keras.Sequential([\n",
        "  tf.keras.layers.experimental.preprocessing.Rescaling(1./255, input_shape=(image_height, image_width, 3)),\n",
        "  SqueezeNet_model,\n",
        "  keras.layers.Conv2D(1000, (1, 1), strides=1, padding='valid', name='conv10'),\n",
        "  keras.layers.BatchNormalization(momentum=0.6),\n",
        "  keras.layers.GlobalAveragePooling2D(),\n",
        "  keras.layers.Dense(num_classes, activation='softmax')\n",
        "])"
      ],
      "execution_count": null,
      "outputs": []
    },
    {
      "cell_type": "code",
      "metadata": {
        "id": "rPbk4uGOoMkb"
      },
      "source": [
        "model_SqueezeNet.summary()"
      ],
      "execution_count": null,
      "outputs": []
    },
    {
      "cell_type": "code",
      "metadata": {
        "id": "Ljg4UzV1hUo_"
      },
      "source": [
        "from tensorflow.keras.utils import plot_model\n",
        "plot_model(model_SqueezeNet, show_shapes=True)"
      ],
      "execution_count": null,
      "outputs": []
    },
    {
      "cell_type": "code",
      "metadata": {
        "id": "Vs4tu_cohuRs"
      },
      "source": [
        "model_SqueezeNet.compile(\n",
        "              optimizer=keras.optimizers.Adam(learning_rate=0.0001),\n",
        "              loss=keras.losses.SparseCategoricalCrossentropy(),\n",
        "              metrics=['accuracy'])"
      ],
      "execution_count": null,
      "outputs": []
    },
    {
      "cell_type": "code",
      "metadata": {
        "id": "xkQJbgf_h1OZ"
      },
      "source": [
        "# import\n",
        "from tensorflow.keras.callbacks import EarlyStopping, ModelCheckpoint\n",
        "\n",
        "# define\n",
        "mcp_save = ModelCheckpoint('gdrive/MyDrive/RSDeepLearning/AssWC/mdl_wts_squeezeNet_scratch.hdf5', save_best_only=True, monitor='val_accuracy', mode='auto', save_weights_only=True) \n",
        "\n",
        "# list together\n",
        "callbacks=[mcp_save]\n",
        "\n",
        "epochs=30\n",
        "r_SqueezeNet = model_SqueezeNet.fit(\n",
        "    ds_train, \n",
        "    validation_data=ds_val, \n",
        "    epochs=epochs,\n",
        "    callbacks=callbacks,\n",
        "    class_weight=class_weight_train)"
      ],
      "execution_count": null,
      "outputs": []
    },
    {
      "cell_type": "markdown",
      "metadata": {
        "id": "sQBxPfgDdZqo"
      },
      "source": [
        "#6 Visualization of transfer learning model results"
      ]
    },
    {
      "cell_type": "code",
      "metadata": {
        "id": "F6JTVEBdP3jG"
      },
      "source": [
        "import matplotlib.pyplot as plt\n",
        "import seaborn as sns\n",
        "sns.set()\n",
        "\n",
        "f, ax = plt.subplots(1,2,figsize=(25,7))\n",
        "ax[0].plot(r_mobileV2.history['loss'], label = 'Loss MobileNetV2', color = 'b')\n",
        "ax[0].plot(r_mobileV2.history['val_loss'], label = 'Val loss MobileNetV2', color = 'b', ls= '--')\n",
        "ax[0].plot(r_ResNet50.history['loss'], label = 'Loss ResNet50', color = 'g')\n",
        "ax[0].plot(r_ResNet50.history['val_loss'], label = 'Val loss ResNet50', color = 'g', ls= '--')\n",
        "ax[0].plot(r_InceptionV3.history['loss'], label = 'Loss InceptionV3', color = 'r')\n",
        "ax[0].plot(r_InceptionV3.history['val_loss'], label = 'Val loss InceptionV3', color = 'r', ls= '--')\n",
        "ax[0].plot(r_DenseNet121.history['loss'], label = 'Loss DenseNet121', color = 'magenta')\n",
        "ax[0].plot(r_DenseNet121.history['val_loss'], label = 'Val loss DenseNet121', color = 'magenta', ls= '--')\n",
        "ax[0].plot(r_SqueezeNet.history['loss'], label = 'Loss SqueezeNet', color = 'lime')\n",
        "ax[0].plot(r_SqueezeNet.history['val_loss'], label = 'Val loss SqueezeNet', color = 'lime', ls= '--')\n",
        "ax[0].set_xlabel('Epochs')\n",
        "ax[0].set_ylabel('Loss [-]')\n",
        "ax[0].set_title('Training and validation loss for transfer learning models trained from scratch', fontsize=14)\n",
        "ax[0].legend()\n",
        "ax[1].plot(r_mobileV2.history['accuracy'], label = 'Acc MobileNetV2', color = 'b')\n",
        "ax[1].plot(r_mobileV2.history['val_accuracy'], label = 'Val acc MobileNetV2', color = 'b', ls= '--')\n",
        "ax[1].plot(r_ResNet50.history['accuracy'], label = 'Acc ResNet50', color = 'g')\n",
        "ax[1].plot(r_ResNet50.history['val_accuracy'], label = 'Val acc ResNet50', color = 'g', ls= '--')\n",
        "ax[1].plot(r_InceptionV3.history['accuracy'], label = 'Acc InceptionV3', color = 'r')\n",
        "ax[1].plot(r_InceptionV3.history['val_accuracy'], label = 'Val acc InceptionV3', color = 'r', ls= '--')\n",
        "ax[1].plot(r_DenseNet121.history['accuracy'], label = 'Acc DenseNet121', color = 'magenta')\n",
        "ax[1].plot(r_DenseNet121.history['val_accuracy'], label = 'Val acc DenseNet121', color = 'magenta', ls= '--')\n",
        "ax[1].plot(r_SqueezeNet.history['accuracy'], label = 'Acc SqueezeNet', color = 'lime')\n",
        "ax[1].plot(r_SqueezeNet.history['val_accuracy'], label = 'Val SqueezeNet', color = 'lime', ls= '--')\n",
        "ax[1].set_xlabel('Epochs')\n",
        "ax[1].set_ylabel('Accuracy [-]')\n",
        "ax[1].set_title('Training and validation accuracy for transfer learning models trained from scratch', fontsize=14)\n",
        "ax[1].legend();"
      ],
      "execution_count": null,
      "outputs": []
    },
    {
      "cell_type": "code",
      "metadata": {
        "id": "5zoRORGqXNHi"
      },
      "source": [
        "\n",
        "val_acc = round(np.max(r_mobileV2.history['val_accuracy'])*100, 2)\n",
        "val_loss = round(np.min(r_mobileV2.history['val_loss']), 2)\n",
        "print(f'The best validation accuracy of MobileNetV2 is {val_acc}% and validation loss is {val_loss}')"
      ],
      "execution_count": null,
      "outputs": []
    },
    {
      "cell_type": "code",
      "metadata": {
        "id": "4s5I4GoXGC06"
      },
      "source": [
        "val_acc = round(np.max(r_ResNet50.history['val_accuracy'])*100, 2)\n",
        "val_loss = round(np.min(r_ResNet50.history['val_loss']), 2)\n",
        "print(f'The best validation accuracy of ResNet50 is {val_acc}% and validation loss is {val_loss}')"
      ],
      "execution_count": null,
      "outputs": []
    },
    {
      "cell_type": "code",
      "metadata": {
        "id": "z384GJYXGIUq"
      },
      "source": [
        "val_acc = round(np.max(r_InceptionV3.history['val_accuracy'])*100, 2)\n",
        "val_loss = round(np.min(r_InceptionV3.history['val_loss']), 2)\n",
        "print(f'The best validation accuracy of InceptionV3 is {val_acc}% and validation loss is {val_loss}')"
      ],
      "execution_count": null,
      "outputs": []
    },
    {
      "cell_type": "code",
      "metadata": {
        "id": "lnrNB3BHGM4T"
      },
      "source": [
        "val_acc = round(np.max(r_DenseNet121.history['val_accuracy'])*100, 2)\n",
        "val_loss = round(np.min(r_DenseNet121.history['val_loss']), 2)\n",
        "print(f'The best validation accuracy of DenseNet is {val_acc}% and validation loss is {val_loss}')"
      ],
      "execution_count": null,
      "outputs": []
    },
    {
      "cell_type": "code",
      "metadata": {
        "id": "UdnPOMCTGSUu"
      },
      "source": [
        "val_acc = round(np.max(r_DenseNet121.history['val_accuracy'])*100, 2)\n",
        "val_loss = round(np.min(r_DenseNet121.history['val_loss']), 2)\n",
        "print(f'The best validation accuracy of SqueezeNet is {val_acc}% and validation loss is {val_loss}')"
      ],
      "execution_count": null,
      "outputs": []
    },
    {
      "cell_type": "markdown",
      "metadata": {
        "id": "-eXUDP6qhptG"
      },
      "source": [
        "#7 Confusion matrix"
      ]
    },
    {
      "cell_type": "code",
      "metadata": {
        "id": "AJI_uENfce-D"
      },
      "source": [
        "y_true = np.concatenate([y for x, y in ds_val], axis=0)\n",
        "x_val = np.concatenate([x for x, y in ds_val], axis=0)\n",
        "y_pred = model.predict(ds_val).argmax(axis=1)\n",
        "plt.figure(figsize=(8,8))\n",
        "plt.grid(False)\n",
        "cm = confusion_matrix(y_true, y_pred)\n",
        "plot_confusion_matrix(cm, list(range(num_classes)))"
      ],
      "execution_count": null,
      "outputs": []
    }
  ]
}