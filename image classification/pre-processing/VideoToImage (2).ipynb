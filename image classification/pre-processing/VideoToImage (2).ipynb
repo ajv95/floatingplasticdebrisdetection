{
 "cells": [
  {
   "cell_type": "code",
   "execution_count": 1,
   "metadata": {},
   "outputs": [],
   "source": [
    "import cv2\n",
    "import numpy as np"
   ]
  },
  {
   "cell_type": "code",
   "execution_count": null,
   "metadata": {},
   "outputs": [],
   "source": [
    "def save_image(image, addr, num):\n",
    "    address = addr + str(num) + '.jpg'\n",
    "\n",
    "    width = 1920\n",
    "    height = 1080\n",
    "    dim = (width, height)\n",
    "\n",
    "    # resize image\n",
    "    resized = cv2.resize(image, dim, interpolation=cv2.INTER_AREA)\n",
    "    print('Resized Dimensions : ', resized.shape)\n",
    "\n",
    "    cv2.imwrite(address, resized)\n",
    "\n",
    "\n",
    "#  video capturing from video file\n",
    "videoCapture = cv2.VideoCapture(r\"C:\\Users\\Andre\\Desktop\\Static camera tests\\Measurements 14042021\\VID_20210414_155333.MP4\")\n",
    "\n",
    "\n",
    "# reading frame\n",
    "success, frame = videoCapture.read()\n",
    "i = 0\n",
    "timeF = 120  # frame rate\n",
    "j = 0\n",
    "while success:\n",
    "    i = i + 1\n",
    "    if i % timeF == 0:\n",
    "        j = j + 1\n",
    "        save_image(frame, r\"C:\\Users\\Andre\\Desktop\\Static camera tests\\Measurements 14042021\\Huawei 2.7 TEST\\exp75_pic\", j)\n",
    "        print('save image:', i)\n",
    "    success, frame = videoCapture.read()"
   ]
  }
 ],
 "metadata": {
  "kernelspec": {
   "display_name": "Python 3",
   "language": "python",
   "name": "python3"
  },
  "language_info": {
   "codemirror_mode": {
    "name": "ipython",
    "version": 3
   },
   "file_extension": ".py",
   "mimetype": "text/x-python",
   "name": "python",
   "nbconvert_exporter": "python",
   "pygments_lexer": "ipython3",
   "version": "3.8.5"
  }
 },
 "nbformat": 4,
 "nbformat_minor": 4
}
